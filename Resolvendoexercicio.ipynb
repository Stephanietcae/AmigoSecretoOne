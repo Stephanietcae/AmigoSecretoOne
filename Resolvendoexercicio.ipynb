{
  "nbformat": 4,
  "nbformat_minor": 0,
  "metadata": {
    "colab": {
      "provenance": [],
      "authorship_tag": "ABX9TyMojLsQwaxZJM2Du7cvQagF",
      "include_colab_link": true
    },
    "kernelspec": {
      "name": "python3",
      "display_name": "Python 3"
    },
    "language_info": {
      "name": "python"
    }
  },
  "cells": [
    {
      "cell_type": "markdown",
      "metadata": {
        "id": "view-in-github",
        "colab_type": "text"
      },
      "source": [
        "<a href=\"https://colab.research.google.com/github/Stephanietcae/AmigoSecretoOne/blob/main/Resolvendoexercicio.ipynb\" target=\"_parent\"><img src=\"https://colab.research.google.com/assets/colab-badge.svg\" alt=\"Open In Colab\"/></a>"
      ]
    },
    {
      "cell_type": "code",
      "execution_count": 1,
      "metadata": {
        "colab": {
          "base_uri": "https://localhost:8080/"
        },
        "id": "o5m0GbS5fuPB",
        "outputId": "638ccc41-e2ad-4eb1-de28-a4eea3c21342"
      },
      "outputs": [
        {
          "output_type": "stream",
          "name": "stdout",
          "text": [
            "Escreva um numero:7\n",
            "Escreva outra número3\n",
            "O primeiro número é maior: 7  \n"
          ]
        }
      ],
      "source": [
        "##Escreva um programa que peça à pessoa usuária para fornecer dois números e exibir o número maior.\n",
        "\n",
        "num1 = int(input('Escreva um numero:'))\n",
        "num2 = int(input ('Escreva outra número'))\n",
        "\n",
        "if num1 > num2:\n",
        "  print(f'O primeiro número é maior: {num1}')\n",
        "elif num2< num1:\n",
        "  print(f'O segundo número é maior:{num2}')\n"
      ]
    },
    {
      "cell_type": "code",
      "source": [
        "##Escreva um programa que solicite o percentual de crescimento de produção de uma empresa e informe se houve um crescimento (porcentagem positiva) ou decrescimento (porcentagem negativa).\n",
        "variacao = float(input('Digite o percentual de crescimento:'))\n",
        "\n",
        "if variacao > 0:\n",
        "  print(f'Houve um crescimento de {variacao}%')\n",
        "elif variacao <0:\n",
        "  print(f' Houve um decrescimento de {variacao}%')\n",
        "else:\n",
        "  print('Não houve crescimento ou decrescimento')"
      ],
      "metadata": {
        "colab": {
          "base_uri": "https://localhost:8080/"
        },
        "id": "taJkEHNOhLUD",
        "outputId": "b8402840-bc8d-4beb-acb3-9e143906e1e2"
      },
      "execution_count": 2,
      "outputs": [
        {
          "output_type": "stream",
          "name": "stdout",
          "text": [
            "Digite o percentual de crescimento:4\n",
            "Houve um crescimento de 4.0%\n"
          ]
        }
      ]
    },
    {
      "cell_type": "code",
      "source": [
        "## 3.Escreva um programa que determine se uma letra fornecida pela pessoa usuária é uma vogal ou consoante.\n",
        "\n",
        "letra= input('Digite uma letra:')\n",
        "vogais = 'aeiou'\n",
        "\n",
        "if letra in vogais:\n",
        "  print ('A letra é uma vogal')\n",
        "else:\n",
        "  print('A letra é uma consoante!')\n"
      ],
      "metadata": {
        "colab": {
          "base_uri": "https://localhost:8080/"
        },
        "id": "hz_ioSpWlC3R",
        "outputId": "a946a938-4ec5-411d-80ca-75fc7ad9da34"
      },
      "execution_count": 4,
      "outputs": [
        {
          "output_type": "stream",
          "name": "stdout",
          "text": [
            "Digite uma letra:s\n",
            "A letra é uma consoante!\n"
          ]
        }
      ]
    },
    {
      "cell_type": "code",
      "source": [
        "## 4-Comparamos cada valor com os outros dois valores referentes aos outros dois anos e determinamos o maior e o menor valor. Fazemos isso atribuindo, inicialmente, a variável preco_ano1 o valor de maior resultado e, caso um haja valor maior que o pré-estabelecido, a variável maior será trocada. A mesma lógica é aplicada à verificação do menor valor.\n",
        "preco_ano1 = float(input('Informe o preço médio do carro no primeiro ano:'))\n",
        "preco_ano2 = float(input('Informe o preço médio do carro no segundo ano:'))\n",
        "preco_ano3 = float(input('Informe o preço médio do carro no terceiro ano:'))\n",
        "\n",
        "maior = preco_ano1\n",
        "if preco_ano2 > maior:\n",
        "  maior = preco_ano2\n",
        "if preco_ano3 > maior:\n",
        "  maior = preco_ano3\n",
        "\n",
        "menor = preco_ano1\n",
        "if preco_ano2 < menor:\n",
        "  menor = preco_ano2\n",
        "if preco_ano3 < menor:\n",
        "   menor = preco_ano3\n",
        "\n",
        "print(f'O maior preço foi de R${maior} .')\n",
        "print(f'O menor preço foi de R${menor}.')"
      ],
      "metadata": {
        "colab": {
          "base_uri": "https://localhost:8080/",
          "height": 495
        },
        "id": "E69N3lXXmk-5",
        "outputId": "00fa18f2-fc6e-40b6-9ba4-789cca56b463"
      },
      "execution_count": 6,
      "outputs": [
        {
          "output_type": "error",
          "ename": "KeyboardInterrupt",
          "evalue": "Interrupted by user",
          "traceback": [
            "\u001b[0;31m---------------------------------------------------------------------------\u001b[0m",
            "\u001b[0;31mKeyboardInterrupt\u001b[0m                         Traceback (most recent call last)",
            "\u001b[0;32m<ipython-input-6-d39f307dde68>\u001b[0m in \u001b[0;36m<cell line: 0>\u001b[0;34m()\u001b[0m\n\u001b[1;32m      1\u001b[0m \u001b[0;31m## 4-Comparamos cada valor com os outros dois valores referentes aos outros dois anos e determinamos o maior e o menor valor. Fazemos isso atribuindo, inicialmente, a variável preco_ano1 o valor de maior resultado e, caso um haja valor maior que o pré-estabelecido, a variável maior será trocada. A mesma lógica é aplicada à verificação do menor valor.\u001b[0m\u001b[0;34m\u001b[0m\u001b[0;34m\u001b[0m\u001b[0m\n\u001b[0;32m----> 2\u001b[0;31m \u001b[0mpreco_ano1\u001b[0m \u001b[0;34m=\u001b[0m \u001b[0mfloat\u001b[0m\u001b[0;34m(\u001b[0m\u001b[0minput\u001b[0m\u001b[0;34m(\u001b[0m\u001b[0;34m'Informe o preço médio do carro no primeiro ano:'\u001b[0m\u001b[0;34m)\u001b[0m\u001b[0;34m)\u001b[0m\u001b[0;34m\u001b[0m\u001b[0;34m\u001b[0m\u001b[0m\n\u001b[0m\u001b[1;32m      3\u001b[0m \u001b[0mpreco_ano2\u001b[0m \u001b[0;34m=\u001b[0m \u001b[0mfloat\u001b[0m\u001b[0;34m(\u001b[0m\u001b[0minput\u001b[0m\u001b[0;34m(\u001b[0m\u001b[0;34m'Informe o preço médio do carro no segundo ano:'\u001b[0m\u001b[0;34m)\u001b[0m\u001b[0;34m)\u001b[0m\u001b[0;34m\u001b[0m\u001b[0;34m\u001b[0m\u001b[0m\n\u001b[1;32m      4\u001b[0m \u001b[0mpreco_ano3\u001b[0m \u001b[0;34m=\u001b[0m \u001b[0mfloat\u001b[0m\u001b[0;34m(\u001b[0m\u001b[0minput\u001b[0m\u001b[0;34m(\u001b[0m\u001b[0;34m'Informe o preço médio do carro no terceiro ano:'\u001b[0m\u001b[0;34m)\u001b[0m\u001b[0;34m)\u001b[0m\u001b[0;34m\u001b[0m\u001b[0;34m\u001b[0m\u001b[0m\n\u001b[1;32m      5\u001b[0m \u001b[0;34m\u001b[0m\u001b[0m\n",
            "\u001b[0;32m/usr/local/lib/python3.11/dist-packages/ipykernel/kernelbase.py\u001b[0m in \u001b[0;36mraw_input\u001b[0;34m(self, prompt)\u001b[0m\n\u001b[1;32m   1175\u001b[0m                 \u001b[0;34m\"raw_input was called, but this frontend does not support input requests.\"\u001b[0m\u001b[0;34m\u001b[0m\u001b[0;34m\u001b[0m\u001b[0m\n\u001b[1;32m   1176\u001b[0m             )\n\u001b[0;32m-> 1177\u001b[0;31m         return self._input_request(\n\u001b[0m\u001b[1;32m   1178\u001b[0m             \u001b[0mstr\u001b[0m\u001b[0;34m(\u001b[0m\u001b[0mprompt\u001b[0m\u001b[0;34m)\u001b[0m\u001b[0;34m,\u001b[0m\u001b[0;34m\u001b[0m\u001b[0;34m\u001b[0m\u001b[0m\n\u001b[1;32m   1179\u001b[0m             \u001b[0mself\u001b[0m\u001b[0;34m.\u001b[0m\u001b[0m_parent_ident\u001b[0m\u001b[0;34m[\u001b[0m\u001b[0;34m\"shell\"\u001b[0m\u001b[0;34m]\u001b[0m\u001b[0;34m,\u001b[0m\u001b[0;34m\u001b[0m\u001b[0;34m\u001b[0m\u001b[0m\n",
            "\u001b[0;32m/usr/local/lib/python3.11/dist-packages/ipykernel/kernelbase.py\u001b[0m in \u001b[0;36m_input_request\u001b[0;34m(self, prompt, ident, parent, password)\u001b[0m\n\u001b[1;32m   1217\u001b[0m             \u001b[0;32mexcept\u001b[0m \u001b[0mKeyboardInterrupt\u001b[0m\u001b[0;34m:\u001b[0m\u001b[0;34m\u001b[0m\u001b[0;34m\u001b[0m\u001b[0m\n\u001b[1;32m   1218\u001b[0m                 \u001b[0;31m# re-raise KeyboardInterrupt, to truncate traceback\u001b[0m\u001b[0;34m\u001b[0m\u001b[0;34m\u001b[0m\u001b[0m\n\u001b[0;32m-> 1219\u001b[0;31m                 \u001b[0;32mraise\u001b[0m \u001b[0mKeyboardInterrupt\u001b[0m\u001b[0;34m(\u001b[0m\u001b[0;34m\"Interrupted by user\"\u001b[0m\u001b[0;34m)\u001b[0m \u001b[0;32mfrom\u001b[0m \u001b[0;32mNone\u001b[0m\u001b[0;34m\u001b[0m\u001b[0;34m\u001b[0m\u001b[0m\n\u001b[0m\u001b[1;32m   1220\u001b[0m             \u001b[0;32mexcept\u001b[0m \u001b[0mException\u001b[0m\u001b[0;34m:\u001b[0m\u001b[0;34m\u001b[0m\u001b[0;34m\u001b[0m\u001b[0m\n\u001b[1;32m   1221\u001b[0m                 \u001b[0mself\u001b[0m\u001b[0;34m.\u001b[0m\u001b[0mlog\u001b[0m\u001b[0;34m.\u001b[0m\u001b[0mwarning\u001b[0m\u001b[0;34m(\u001b[0m\u001b[0;34m\"Invalid Message:\"\u001b[0m\u001b[0;34m,\u001b[0m \u001b[0mexc_info\u001b[0m\u001b[0;34m=\u001b[0m\u001b[0;32mTrue\u001b[0m\u001b[0;34m)\u001b[0m\u001b[0;34m\u001b[0m\u001b[0;34m\u001b[0m\u001b[0m\n",
            "\u001b[0;31mKeyboardInterrupt\u001b[0m: Interrupted by user"
          ]
        }
      ]
    },
    {
      "cell_type": "code",
      "source": [
        "## 5.Escreva um programa que pergunte sobre o preço de três produtos e indique qual é o produto mais barato para comprar.\n",
        "preco_p1 = float(input('Informe o preço do primeiro produto:'))\n",
        "preco_p2 = float(input('Informe o preço do segundo produto:'))\n",
        "preco_p3 = float(input('Informe o preço do terceiro produto:'))\n",
        "\n",
        "if preco_p1 < preco_p2 and preco_p1 < preco_p3:\n",
        "  print(f'O primeiro produto é o mais barato, custando R${preco_p1}.')\n",
        "elif preco_p2 < preco_p1 and preco_p2 < preco_p3:\n",
        "  print(f'O segundo produto é o mais barato, custando R${preco_p2}.')\n",
        "elif preco_p3 < preco_p1 and preco_p3 < preco_p2:\n",
        "  print(f'O terceiro produto é o mais barato, custando R${preco_p3}.')\n",
        "else:\n",
        "  if preco_p1 == preco_p2:\n",
        "    print('O primeiro e o segundo produto são os mais baratos.')\n",
        "  elif preco_p1 == preco_p3:\n",
        "    print('O primeiro e o terceiro produto são os mais baratos.')\n",
        "  elif preco_p2 == preco_p3:\n",
        "    print('O segundo e o terceiro produto são os mais baratos.')\n",
        "\n"
      ],
      "metadata": {
        "colab": {
          "base_uri": "https://localhost:8080/"
        },
        "id": "49pGlTgMr8s4",
        "outputId": "7dfcb865-ff2f-4d7b-d244-337da8f748e5"
      },
      "execution_count": 8,
      "outputs": [
        {
          "output_type": "stream",
          "name": "stdout",
          "text": [
            "Informe o preço do primeiro produto:2.99\n",
            "Informe o preço do segundo produto:11.70\n",
            "Informe o preço do terceiro produto:7.95\n",
            "O primeiro produto é o mais barato, custando R$2.99.\n"
          ]
        }
      ]
    },
    {
      "cell_type": "code",
      "source": [
        "## 6. Escreva um programa que leia três números e os exiba em ordem decrescente\n",
        "\n",
        "n1 =  int(input('Digite o primeiro número:'))\n",
        "n2 =  int(input('Digite o segundo número:'))\n",
        "n3 =  int(input('Digite o terceiro número:'))\n",
        "\n",
        "if(n1 >= n2) and (n1 >= n3):\n",
        "  print(n1)\n",
        "  if(n2 >= n3):\n",
        "    print(n2)\n",
        "    print(n3)\n",
        "  else:\n",
        "    print(n3)\n",
        "    print(n2)\n",
        "elif(n2>=n1) and (n2>=n3):\n",
        "  print(n2)\n",
        "  if(n1>=n3):\n",
        "    print(n1)\n",
        "    print(n3)\n",
        "  else:\n",
        "    print(n3)\n",
        "    print(n1)\n",
        "else:\n",
        "  print(n3)\n",
        "  if(n1>=n2):\n",
        "    print(n1)\n",
        "    print(n2)\n",
        "  else:\n",
        "    print(n2)\n",
        "    print(n1)\n",
        "\n"
      ],
      "metadata": {
        "colab": {
          "base_uri": "https://localhost:8080/"
        },
        "id": "H5bBbnaRzBRS",
        "outputId": "eecdf357-0031-4ff8-eafe-8984836b9e9f"
      },
      "execution_count": 9,
      "outputs": [
        {
          "output_type": "stream",
          "name": "stdout",
          "text": [
            "Digite o primeiro número:7\n",
            "Digite o segundo número:3\n",
            "Digite o terceiro número:9\n",
            "9\n",
            "7\n",
            "3\n"
          ]
        }
      ]
    },
    {
      "cell_type": "code",
      "source": [
        "n1 = int(input('Digite o primeiro número: '))\n",
        "n2 = int(input('Digite o segundo número: '))\n",
        "n3 = int(input('Digite o terceiro número: '))\n",
        "\n",
        "if n1 >= n2 and n1 >= n3:\n",
        "  if n2 >= n3:\n",
        "    print(n1, n2, n3)\n",
        "  else:\n",
        "    print(n1, n3, n2)\n",
        "elif n2 >= n1 and n2 >= n3:\n",
        "  if n1 >= n3:\n",
        "    print(n2, n1, n3)\n",
        "  else:\n",
        "    print(n2, n3, n1)\n",
        "else:\n",
        "  if n1 >= n2:\n",
        "    print(n3, n1, n2)\n",
        "  else:\n",
        "    print(n3, n2, n1)"
      ],
      "metadata": {
        "colab": {
          "base_uri": "https://localhost:8080/"
        },
        "id": "ldA3C3Z72PSk",
        "outputId": "5bc0e1ae-24fe-47ed-bc55-36e10cb17cdc"
      },
      "execution_count": 10,
      "outputs": [
        {
          "output_type": "stream",
          "name": "stdout",
          "text": [
            "Digite o primeiro número: 7\n",
            "Digite o segundo número: 6\n",
            "Digite o terceiro número: 8\n",
            "8 7 6\n"
          ]
        }
      ]
    },
    {
      "cell_type": "code",
      "source": [
        "##7. Escreva um programa que pergunte em qual turno a pessoa usuária estuda (\"manhã\", \"tarde\" ou \"noite\") e exiba a mensagem \"Bom Dia!\", \"Boa Tarde!\", \"Boa Noite!\", ou \"Valor Inválido!\", conforme o caso.\n",
        "turno = input('Em qual turno você estuda? Digite \"manhã\", \"tarde\" ou \"noite\":')\n",
        "\n",
        "if turno == 'manhã':\n",
        "  print('Bom dia!')\n",
        "elif turno == 'tarde':\n",
        "  print('Boa tarde!')\n",
        "elif turno == 'noite':\n",
        "  print('Boa noite!')\n",
        "else:\n",
        "  print('Valor inválido!')"
      ],
      "metadata": {
        "colab": {
          "base_uri": "https://localhost:8080/"
        },
        "id": "NfnUcdt12a9Q",
        "outputId": "4fa97da0-0d42-40bc-bf62-d356f587ee6c"
      },
      "execution_count": 11,
      "outputs": [
        {
          "output_type": "stream",
          "name": "stdout",
          "text": [
            "Em qual turno você estuda? Digite \"manhã\", \"tarde\" ou \"noite\":manhã\n",
            "Bom dia!\n"
          ]
        }
      ]
    },
    {
      "cell_type": "code",
      "source": [
        "## 8.Escreva um programa que peça um número inteiro à pessoa usuária e determine se ele é par ou ímpar. Dica: Você pode utilizar o operador módulo %.\n",
        "\n",
        "numero = int(input('Digite um número inteiro:'))\n",
        "\n",
        "if numero % 2 == 0:\n",
        "  print('O número é par!')\n",
        "else:\n",
        "  print('O número é ímpar!')\n"
      ],
      "metadata": {
        "colab": {
          "base_uri": "https://localhost:8080/"
        },
        "id": "UpWey5U73FSx",
        "outputId": "78c93965-ad14-4fb3-ec9d-6e4263b10049"
      },
      "execution_count": 19,
      "outputs": [
        {
          "output_type": "stream",
          "name": "stdout",
          "text": [
            "Digite um número inteiro:7\n",
            "O número é ímpar!\n"
          ]
        }
      ]
    },
    {
      "cell_type": "code",
      "source": [
        "##9) Escreva um programa que peça um número à pessoa usuária e informe se ele é inteiro ou decimal.\n",
        "\n",
        "numero = float(input('Digite um número:'))\n",
        "\n",
        "if numero % 1 == 0:\n",
        "  print('O número é inteiro!')\n",
        "else:\n",
        "  print('O número é decimal!')"
      ],
      "metadata": {
        "colab": {
          "base_uri": "https://localhost:8080/"
        },
        "id": "6xAnex_p3fMt",
        "outputId": "fed8538d-2a0d-4e0d-89c1-583f04808a58"
      },
      "execution_count": 20,
      "outputs": [
        {
          "output_type": "stream",
          "name": "stdout",
          "text": [
            "Digite um número:6\n",
            "O número é inteiro!\n"
          ]
        }
      ]
    },
    {
      "cell_type": "code",
      "source": [],
      "metadata": {
        "id": "LSrYlrl94Ulm"
      },
      "execution_count": null,
      "outputs": []
    }
  ]
}